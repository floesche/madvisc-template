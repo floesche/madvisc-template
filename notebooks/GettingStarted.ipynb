{
 "cells": [
  {
   "cell_type": "markdown",
   "id": "d309c292",
   "metadata": {},
   "source": [
    "# Motivation\n",
    "\n",
    "This notebook is a demonstration on how to use some utility functions developed as part of the [Nern, A., Loesche, F., Takemura, Sy. et al. (2025) paper](https://doi.org/10.1038/s41586-025-08746-0). Here we refer to the code from the paper as **MA**le **D**rosophila **VI**sual **S**ystem **C**onnectome, abbreviated as `madvisc`.\n",
    "\n",
    "The `madvisc` code was developed for the \"Optic-Lobe\" dataset, at the time of release supporting `optic-lobe:v1.0.1` and `optic-lobe:v1.1`. Both datasets are available at [neuPrint](https://neuprint.janelia.org/) with the code available at the [Reiser Lab GitHub repository](https://github.com/reiserlab/male-drosophila-visual-system-connectome-code).\n",
    "\n",
    "While most of the code is specific to generating the figures in the paper, some of the utility functions provide easy access to properties such as the spatial location of neurons and synapses or even plotting functions to visualize the connectome. So we decided to expose the functions inside the `src/utils` and `src/queries` directories as a python package. \n",
    "\n",
    "Here we show a simple way to get started with the madvisc package. It can serve as a template for your own notebooks. For example, you can create a clone of this repository and then add your own notebooks in the `notebooks` directory.\n",
    "\n",
    "\n",
    "# Installation\n",
    "\n",
    "This package is currently only available on GitHub. While there might be other ways to install it, we recommend using **pixi** as we did for the original code. [Pixi](https://pixi.sh) is a package manager for Python that creates reproducible virtual environment for each project. We had good experiences with pixi for the original code developing it across Linux, macOS and Windows at the same time.\n",
    "\n",
    "## Install Pixi\n",
    "\n",
    "To install pixi itself, follow the instructions on the [pixi website](https://pixi.sh/latest/installation/). Follow the instructions for your operating system, in most cases executing one command line in your terminal will suffice.\n",
    "\n",
    "Verify that pixi is installed by running `pixi --version` in your terminal. If you see a version number, you are good to go.\n",
    "\n",
    "## Install this package\n",
    "\n",
    "To install this package, you have to clone it from GitHub. It doesn't matter if you want to use the exact same repository or if you clone, fork, or copy it first. Once you have the repository on your local machine, you should open a terminal inside the repository directory.\n",
    "\n",
    "Inside the repository directory, you can run the following command to install the dependencies and the package itself: `pixi install`. The first time you run this command, it will take a while to download and install all the depenencies. Alternatively, the command `pixi shell` will download all dependencies just like `pixi install` and open a shell inside the virtual environment.\n",
    "\n",
    "If the installation was successful and you set the correct python kernel in your jupyter notebook, the following code should run without errors:"
   ]
  },
  {
   "cell_type": "code",
   "execution_count": null,
   "id": "e5bdcc69",
   "metadata": {},
   "outputs": [],
   "source": [
    "from madvisc.utils import olc_client"
   ]
  },
  {
   "cell_type": "markdown",
   "id": "a806bc58",
   "metadata": {},
   "source": [
    "\n",
    "\n",
    "## Configure the package\n",
    "\n",
    "The package `madvisc` expects some configuration to be set up. Access to the data sets is provided by environment variables set up in a `.env` file in the project's root directory. The `.env` file is also used to find additional parameters from the `params` folder. To create the `.env` file, copy the content of `.env.sample` to `.env` and edit the values accordingly. To get started, it should be sufficient to copy the access toke from your [neuPrint account](https://neuprint.janelia.org/account) to the `NEUPRINT_APPLICATION_CREDENTIALS` variable in the `.env` file.\n",
    "\n",
    "If the configuration is set up correctly, the following code should run without errors and print out some basic information about the dataset and client."
   ]
  },
  {
   "cell_type": "code",
   "execution_count": null,
   "id": "33040f86",
   "metadata": {},
   "outputs": [],
   "source": [
    "c = olc_client.connect(verbose=True)"
   ]
  },
  {
   "cell_type": "markdown",
   "id": "3ce9fd61",
   "metadata": {},
   "source": [
    "# Sample Code\n",
    "\n",
    "The following code imports the class `OLNeuron` from the `madvisc` package.\n",
    "\n",
    "We initialize the `OLNeuron` class with the ID of an existing neuron, for example `104599`. The code then prints the type of the neuron and a table of the main columns this neuron is associated with."
   ]
  },
  {
   "cell_type": "code",
   "execution_count": null,
   "id": "b4d1f0e1",
   "metadata": {},
   "outputs": [],
   "source": [
    "from madvisc.utils.ol_neuron import OLNeuron\n",
    "\n",
    "# Tm5a: 16354 ; C2: 86459; TmY5a: 104599\n",
    "oln = OLNeuron(104599)\n",
    "print(f\"The neuron is of type '{oln.get_type()}'\")\n",
    "print(f\"Hex IDs:\\n{oln.get_hex_id()}\")\n",
    "print(f\"All innervated ROIs:\\n{oln.innervated_rois()}\")"
   ]
  },
  {
   "cell_type": "markdown",
   "id": "edde0815",
   "metadata": {},
   "source": [
    "Another useful class is `NeuronBag`, which represents a collection of neurons. Initializing the class with the name of a neuron type such as `Tm20` and the `side` set to `R-dominant` will return all neurons of that type associated with the right side of the optic lobe. The NeuronBag class also provides a method to order the neurons by their spatial distance to a given column. Here we sort the whole bag by distance to the arbitrarily chosen column (13, 10) and I print the first 5 neurons and their columns via the `OLNeuron` class. __Note:__ it can take a few minutes to sort all neurons by distance."
   ]
  },
  {
   "cell_type": "code",
   "execution_count": null,
   "id": "4a8a9207",
   "metadata": {},
   "outputs": [],
   "source": [
    "from madvisc.utils.neuron_bag import NeuronBag\n",
    "\n",
    "bag = NeuronBag('Tm20')\n",
    "bag.sort_by_distance_to_hex(neuropil='ME(R)', hex1_id=13, hex2_id=10)\n",
    "\n",
    "closest = bag.get_body_ids(5)\n",
    "for idx, next_neuron in enumerate(closest):\n",
    "    # print(f\"{idx} {next_neuron}\")\n",
    "    tm20_dist = OLNeuron(next_neuron)\n",
    "    print(f\"{idx} {tm20_dist.get_hex_id()}\\n\")"
   ]
  },
  {
   "cell_type": "markdown",
   "id": "72346446",
   "metadata": {},
   "source": [
    "# Advanced usage\n",
    "\n",
    "## Modify parameters\n",
    "\n",
    "The `madvisc` package uses some parameter files inside the `params` directory. When using `madvisc`, these parameters themselves are not inherited, but depending on the funcitonality required, the location of these parameter files are. This makes it very easy to adapt the list like the `Primary_cell_type_table` to a new dataset: just provide your own parameters in the file `params/Primary_cell_type_table.xlsx` and the code will use these parameters. If parameter files are not required for your specific use case, you should modify the classes instead (simiarl approach to the added functionality below).\n",
    "\n",
    "## Extend funcitonality \n",
    "\n",
    "The following code example extends functionality of an existing class from `madvisc`. Specifically, we extend the `OLNeuron` class with a method to get all the layers it innervates. \n",
    "\n",
    "Here the new class `TemplateNeuron` (uninspiredly named after the madvisc-template repository, please find better names in your code!) inherits everything from `OLNeuron`. This is demonstrated by the call to `tn.get_type()`.\n",
    "\n",
    "`TemplateNeuron` also possesses an additional method called `get_layer_ids()` which returns all ROIs that follow a specific name structure containing `_layer_` in a slightly different format, specifically a dictionary with layer names as keys and the layer IDs as a list of numbers. __Note:__ This doesn't really make too much sense in life code, instead you would probably want to query the database for the synapses and their location within an ROI, but this is just a demonstration how to extgend the functionality of an existing class.\n",
    "\n",
    "Inherited classes should not be defined inside a notebook but rather in a separate file inside the `src` directory. That way you can adapt the classes for data sets other than the optic lobe and reuse them across notebooks."
   ]
  },
  {
   "cell_type": "code",
   "execution_count": null,
   "id": "224a60db",
   "metadata": {},
   "outputs": [],
   "source": [
    "import re\n",
    "\n",
    "class TemplateNeuron(OLNeuron):\n",
    "\n",
    "    \"\"\"\n",
    "    An example class to inherit from OLNeuron and provide an additional method.\n",
    "    \"\"\"\n",
    "\n",
    "    def get_layer_ids(self):\n",
    "        \"\"\"\n",
    "        Get the innervated layers in the optic lobe from a list of named ROIs.\n",
    "\n",
    "        Returns\n",
    "        -------\n",
    "        dict\n",
    "            A dictionary where keys are layer names (e.g. 'ME (R)' for right medulla) \n",
    "            and the values are a list of layer numbers.\n",
    "        \"\"\"\n",
    "        rois = self.innervated_rois()\n",
    "        pattern = re.compile(r'(.*?)_([RL])_layer_(\\d+)', re.IGNORECASE)\n",
    "        layers = {}\n",
    "        for roi in rois:\n",
    "            for layer in roi:\n",
    "                if match := pattern.search(layer):\n",
    "                    key = f\"{match.group(1)} ({match.group(2)})\"\n",
    "                    if key in layers:\n",
    "                        layers[key].append(int(match.group(3)))\n",
    "                    else:\n",
    "                        layers[key] = [int(match.group(3))]\n",
    "        return layers\n",
    "\n",
    "        \n",
    "\n",
    "tn = TemplateNeuron(104599)\n",
    "print(f\"Once again the type: {tn.get_type()}\")\n",
    "tn.get_layer_ids()\n"
   ]
  },
  {
   "cell_type": "code",
   "execution_count": null,
   "id": "530c64a5",
   "metadata": {},
   "outputs": [],
   "source": []
  }
 ],
 "metadata": {
  "kernelspec": {
   "display_name": "default",
   "language": "python",
   "name": "python3"
  },
  "language_info": {
   "codemirror_mode": {
    "name": "ipython",
    "version": 3
   },
   "file_extension": ".py",
   "mimetype": "text/x-python",
   "name": "python",
   "nbconvert_exporter": "python",
   "pygments_lexer": "ipython3",
   "version": "3.13.5"
  }
 },
 "nbformat": 4,
 "nbformat_minor": 5
}
